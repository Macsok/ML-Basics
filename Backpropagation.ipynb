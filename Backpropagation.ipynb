{
 "cells": [
  {
   "cell_type": "markdown",
   "metadata": {},
   "source": [
    "# $\\text{\\color{olive}Backpropagation}$\n",
    "Theoretical background... (to be filled)\n",
    "author: Maciej S."
   ]
  },
  {
   "cell_type": "code",
   "execution_count": 6,
   "metadata": {},
   "outputs": [
    {
     "name": "stdout",
     "output_type": "stream",
     "text": [
      "+----------+------------------+-------------------+\n",
      "|   weight |   current output |   loss derivation |\n",
      "+==========+==================+===================+\n",
      "| 0.8      |         0.768525 |         0.0955381 |\n",
      "+----------+------------------+-------------------+\n",
      "| 0.790446 |         0.765966 |         0.0953552 |\n",
      "+----------+------------------+-------------------+\n",
      "| 0.780911 |         0.763392 |         0.0951502 |\n",
      "+----------+------------------+-------------------+\n",
      "| 0.771396 |         0.760804 |         0.0949229 |\n",
      "+----------+------------------+-------------------+\n",
      "| 0.761903 |         0.758203 |         0.0946734 |\n",
      "+----------+------------------+-------------------+\n",
      "| 0.752436 |         0.75559  |         0.0944016 |\n",
      "+----------+------------------+-------------------+\n",
      "| 0.742996 |         0.752966 |         0.0941075 |\n",
      "+----------+------------------+-------------------+\n",
      "| 0.733585 |         0.750331 |         0.0937912 |\n",
      "+----------+------------------+-------------------+\n",
      "| 0.724206 |         0.747686 |         0.0934527 |\n",
      "+----------+------------------+-------------------+\n",
      "| 0.714861 |         0.745032 |         0.0930923 |\n",
      "+----------+------------------+-------------------+\n",
      "| 0.705551 |         0.742371 |         0.0927099 |\n",
      "+----------+------------------+-------------------+\n"
     ]
    }
   ],
   "source": [
    "import numpy as np\n",
    "import tabulate\n",
    "\n",
    "# Initialize data (input) and label (output)\n",
    "input_to_node = 1.5\n",
    "expected_output = 0.5\n",
    "\n",
    "# Usualy we initialize starting weights with random values \n",
    "weight = np.random.ranf()\n",
    "weight = 0.8\n",
    "\n",
    "# Set learning rate\n",
    "learning_rate = 0.1\n",
    "\n",
    "# Define activation function - in this case sigmoid\n",
    "def sigmoid(x):\n",
    "    \"\"\"returns activation - current output\"\"\"\n",
    "    return 1 / (1 + np.power(np.e, -x))\n",
    "\n",
    "# Define loss/cost function, for more complex networks we usually use MSE (Mean Square Error)\n",
    "def squareError(a, expected):\n",
    "    \"\"\"calculates 'distance' between wanted and \"\"\"\n",
    "    return np.power(a - expected, 2)\n",
    "\n",
    "# The derivative of the cost function of w (dC/dw) we can replace with dC/dw * da/da = dC/da * da/dw\n",
    "def lossDerivative(a, t):\n",
    "    \"\"\"a - activation/current output, t - desired and actual output\"\"\"\n",
    "    return a * (1 - a) * 2 * (a - t)\n",
    "\n",
    "# fit <-> set the weights to match the output as well as possible\n",
    "def fitWeight(w, a, t, r):\n",
    "    \"\"\"shifts weight towards minimum of the loss function\n",
    "    w - current weight, a - activation/current output, t - expected output, r - learning rate\"\"\"\n",
    "    return w - r * lossDerivative(a, t)\n",
    "\n",
    "# Fitting model and representing results\n",
    "def fitModel(input_to_node, expected_output, weight, learning_rate, epochs = 10):\n",
    "    \"\"\"returns array with learning process [weight, current output, value of dC/da]\"\"\"\n",
    "    output = sigmoid(weight * input_to_node)\n",
    "    arr = [[weight, output, lossDerivative(output, expected_output)]]\n",
    "\n",
    "    for i in range(epochs):\n",
    "        # append values after backpropagation tweaking\n",
    "        weight = fitWeight(weight, sigmoid(weight * input_to_node), expected_output, learning_rate)\n",
    "        output = sigmoid(weight * input_to_node)\n",
    "\n",
    "        arr.append([weight, output, lossDerivative(output, expected_output)])\n",
    "    # return array with learning process\n",
    "    return arr\n",
    "\n",
    "# print out results\n",
    "arr = fitModel(input_to_node, expected_output, weight, learning_rate)\n",
    "print(tabulate.tabulate(arr, ['weight', 'current output', 'loss derivation'], tablefmt='grid'))"
   ]
  },
  {
   "cell_type": "code",
   "execution_count": 11,
   "metadata": {},
   "outputs": [
    {
     "name": "stdout",
     "output_type": "stream",
     "text": [
      "+----------+------------------+-------------------+\n",
      "|   weight |   current output |   loss derivation |\n",
      "+==========+==================+===================+\n",
      "| 0.8      |         0.768525 |         0.0955381 |\n",
      "+----------+------------------+-------------------+\n",
      "| 0.752231 |         0.755534 |         0.0943954 |\n",
      "+----------+------------------+-------------------+\n",
      "| 0.705033 |         0.742222 |         0.092688  |\n",
      "+----------+------------------+-------------------+\n",
      "| 0.658689 |         0.728699 |         0.0904262 |\n",
      "+----------+------------------+-------------------+\n",
      "| 0.613476 |         0.715086 |         0.0876423 |\n",
      "+----------+------------------+-------------------+\n",
      "| 0.569655 |         0.701507 |         0.084389  |\n",
      "+----------+------------------+-------------------+\n",
      "| 0.52746  |         0.688087 |         0.0807357 |\n",
      "+----------+------------------+-------------------+\n",
      "| 0.487093 |         0.674945 |         0.076764  |\n",
      "+----------+------------------+-------------------+\n",
      "| 0.448711 |         0.662189 |         0.0725618 |\n",
      "+----------+------------------+-------------------+\n",
      "| 0.41243  |         0.64991  |         0.0682172 |\n",
      "+----------+------------------+-------------------+\n",
      "| 0.378321 |         0.638182 |         0.063814  |\n",
      "+----------+------------------+-------------------+\n",
      "| 0.346414 |         0.627059 |         0.0594271 |\n",
      "+----------+------------------+-------------------+\n",
      "| 0.316701 |         0.616579 |         0.0551205 |\n",
      "+----------+------------------+-------------------+\n",
      "| 0.28914  |         0.606759 |         0.0509461 |\n",
      "+----------+------------------+-------------------+\n",
      "| 0.263667 |         0.597606 |         0.0469433 |\n",
      "+----------+------------------+-------------------+\n",
      "| 0.240196 |         0.589111 |         0.0431405 |\n",
      "+----------+------------------+-------------------+\n",
      "| 0.218625 |         0.581258 |         0.0395557 |\n",
      "+----------+------------------+-------------------+\n",
      "| 0.198848 |         0.57402  |         0.0361988 |\n",
      "+----------+------------------+-------------------+\n",
      "| 0.180748 |         0.567368 |         0.0330727 |\n",
      "+----------+------------------+-------------------+\n",
      "| 0.164212 |         0.56127  |         0.030175  |\n",
      "+----------+------------------+-------------------+\n",
      "| 0.149124 |         0.55569  |         0.0274994 |\n",
      "+----------+------------------+-------------------+\n"
     ]
    }
   ],
   "source": [
    "# We increase learning rate to speed up learning\n",
    "arr = fitModel(input_to_node, expected_output, weight, learning_rate = 0.5, epochs = 20)\n",
    "\n",
    "print(tabulate.tabulate(arr, ['weight', 'current output', 'loss derivation'], tablefmt='grid'))"
   ]
  },
  {
   "cell_type": "markdown",
   "metadata": {},
   "source": [
    "$\\text{\\textcolor{orange}{Clearly the output value converges to expected output value thanks to backpropagation weight enhancement.}}$"
   ]
  }
 ],
 "metadata": {
  "kernelspec": {
   "display_name": "Python 3",
   "language": "python",
   "name": "python3"
  },
  "language_info": {
   "codemirror_mode": {
    "name": "ipython",
    "version": 3
   },
   "file_extension": ".py",
   "mimetype": "text/x-python",
   "name": "python",
   "nbconvert_exporter": "python",
   "pygments_lexer": "ipython3",
   "version": "3.10.11"
  }
 },
 "nbformat": 4,
 "nbformat_minor": 2
}
