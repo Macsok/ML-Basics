{
  "nbformat": 4,
  "nbformat_minor": 0,
  "metadata": {
    "colab": {
      "provenance": []
    },
    "kernelspec": {
      "name": "python3",
      "display_name": "Python 3"
    },
    "language_info": {
      "name": "python"
    }
  },
  "cells": [
    {
      "cell_type": "code",
      "execution_count": null,
      "metadata": {
        "id": "3L9xZFoIYin4"
      },
      "outputs": [],
      "source": [
        "import tensorflow as tf\n",
        "from keras.datasets import mnist\n",
        "from matplotlib import pyplot as plt\n",
        "from keras.utils import to_categorical\n",
        "import numpy as np\n",
        "from keras import Sequential\n",
        "from keras.layers import Dense, Dropout, Flatten, Conv2D, MaxPool2D"
      ]
    },
    {
      "cell_type": "code",
      "source": [
        "#rozdzielanie datasetu na traning i test \n",
        "#x - actual image, y - label\n",
        "(train_X, train_y), (test_X, test_y) = mnist.load_data()"
      ],
      "metadata": {
        "id": "3gTSTCWAbA2o"
      },
      "execution_count": null,
      "outputs": []
    },
    {
      "cell_type": "code",
      "source": [
        "#jak widzimy w datasecie treningowym znajduje się 60000 zdjec o rozmiarze 28X28, a w testowym 10 000 o takim samym rozmiarze\n",
        "#nasze dane to trzy wymiarowy wektor (60 000 x 28 x 28)\n",
        "print('trening:',train_X.shape)\n",
        "print('test:',test_X.shape)"
      ],
      "metadata": {
        "colab": {
          "base_uri": "https://localhost:8080/"
        },
        "id": "krVSyKvpbEsH",
        "outputId": "0675209f-ce71-4d24-f639-a3aad22b255c"
      },
      "execution_count": null,
      "outputs": [
        {
          "output_type": "stream",
          "name": "stdout",
          "text": [
            "trening: (60000, 28, 28)\n",
            "test: (10000, 28, 28)\n"
          ]
        }
      ]
    },
    {
      "cell_type": "code",
      "source": [
        "for i in range(9): \n",
        "  #subplot arg = trzycyfrowy_int(nrows/ncols/index{1-9}) \n",
        "  \n",
        "  plt.subplot(330 + 1 + i)\n",
        "\n",
        "  #plt.subplot(3, 3, 1 + i)\n",
        "  #zapis jednoznaczny z powyzszym\n",
        "\n",
        "  plt.imshow(train_X[i], cmap=plt.get_cmap('gray'))\n",
        "plt.show()"
      ],
      "metadata": {
        "colab": {
          "base_uri": "https://localhost:8080/",
          "height": 268
        },
        "id": "OTysfrtfbMxG",
        "outputId": "27fc0b3a-dad7-4e4c-a87f-b1da367afe37"
      },
      "execution_count": null,
      "outputs": [
        {
          "output_type": "display_data",
          "data": {
            "text/plain": [
              "<Figure size 432x288 with 9 Axes>"
            ],
            "image/png": "[encoded data removed]"
          },
          "metadata": {
            "needs_background": "light"
          }
        }
      ]
    },
    {
      "cell_type": "code",
      "source": [
        "#ustawiamy zmienne jako float, początkowo są jako int w przedziale [0,255]\n",
        "\n",
        "#type w tym przypadku nie zadziala bo to nie jest zwykla zmienna\n",
        "print(type(train_y))\n",
        "#np.dtype typ zmiennej w numpy\n",
        "print(train_X.dtype)\n",
        "\n",
        "train_X = train_X.astype('float32')\n",
        "print(train_X.dtype)\n",
        "test_X = test_X.astype('float32')"
      ],
      "metadata": {
        "id": "KUlgKmqzbctv",
        "colab": {
          "base_uri": "https://localhost:8080/"
        },
        "outputId": "9b610c19-a497-4531-e4b8-837bddc742ea"
      },
      "execution_count": null,
      "outputs": [
        {
          "output_type": "stream",
          "name": "stdout",
          "text": [
            "<class 'numpy.ndarray'>\n",
            "uint8\n",
            "float32\n"
          ]
        }
      ]
    },
    {
      "cell_type": "code",
      "source": [
        "#dokonujemy normalizacji. Początkowo wartości poszczegulnych pixeli są w przedziale [0, 255], są to duże wartości typu int,\n",
        "# normalizując je (dzieląc przez 255) zmniejszamy zakres do [0, 1], dzięki czemu model operuje na danych o mniejszej rozpiętości, przez co szybciej się uczy \n",
        "train_X /= 255.0\n",
        "test_X /= 255.0"
      ],
      "metadata": {
        "id": "E5qnbBqXbk6P"
      },
      "execution_count": null,
      "outputs": []
    },
    {
      "cell_type": "code",
      "source": [
        "# początkowo nasze labele(etykiety) są cyframi od 0 - 9 ---> [0, 1, 2, 3, 4, 5, 6, 7, 8, 9]\n",
        "for i in range(10):\n",
        "  print(train_y[i])"
      ],
      "metadata": {
        "colab": {
          "base_uri": "https://localhost:8080/"
        },
        "id": "S8d0VVynbrQM",
        "outputId": "d3611576-106f-4652-89ee-cf6b32e99688"
      },
      "execution_count": null,
      "outputs": [
        {
          "output_type": "stream",
          "name": "stdout",
          "text": [
            "5\n",
            "0\n",
            "4\n",
            "1\n",
            "9\n",
            "2\n",
            "1\n",
            "3\n",
            "1\n",
            "4\n"
          ]
        }
      ]
    },
    {
      "cell_type": "code",
      "source": [
        "#takie kodowanie nie pasuje nam to outputu modelu, ponieważ model dokonuje wyboru na podstawie prawdopodobieństwa każdej klasy\n",
        "train_y = to_categorical(train_y, num_classes = 10)\n",
        "test_y = to_categorical(test_y, num_classes =10)\n",
        "#po zmienieniu formatu labeli wygląda to tak:"
      ],
      "metadata": {
        "id": "Qk1cFY50bv35"
      },
      "execution_count": null,
      "outputs": []
    },
    {
      "cell_type": "code",
      "source": [
        "for i in range(10):\n",
        "  print(train_y[i])"
      ],
      "metadata": {
        "colab": {
          "base_uri": "https://localhost:8080/"
        },
        "id": "e3A7q7ZTcNSA",
        "outputId": "e8fa451e-996e-46e5-ddf1-bd54d7cafae1"
      },
      "execution_count": null,
      "outputs": [
        {
          "output_type": "stream",
          "name": "stdout",
          "text": [
            "[0. 0. 0. 0. 0. 1. 0. 0. 0. 0.]\n",
            "[1. 0. 0. 0. 0. 0. 0. 0. 0. 0.]\n",
            "[0. 0. 0. 0. 1. 0. 0. 0. 0. 0.]\n",
            "[0. 1. 0. 0. 0. 0. 0. 0. 0. 0.]\n",
            "[0. 0. 0. 0. 0. 0. 0. 0. 0. 1.]\n",
            "[0. 0. 1. 0. 0. 0. 0. 0. 0. 0.]\n",
            "[0. 1. 0. 0. 0. 0. 0. 0. 0. 0.]\n",
            "[0. 0. 0. 1. 0. 0. 0. 0. 0. 0.]\n",
            "[0. 1. 0. 0. 0. 0. 0. 0. 0. 0.]\n",
            "[0. 0. 0. 0. 1. 0. 0. 0. 0. 0.]\n"
          ]
        }
      ]
    },
    {
      "cell_type": "code",
      "source": [
        "#reshape, dzięki \"-1\" mamy dane w jednym wymiarze\n",
        "print(train_X.shape)\n",
        "train_X = train_X.reshape(train_X.shape[0], -1)\n",
        "test_X = test_X.reshape(test_X.shape[0], -1)\n",
        "print(train_X.shape)\n",
        "#w skrócie: 60 000 zdjęć, jak wcześniej, tylko tym razem mamy jeden wektor o długości 784 wartości"
      ],
      "metadata": {
        "colab": {
          "base_uri": "https://localhost:8080/"
        },
        "id": "Biam0_HNcXwZ",
        "outputId": "0f8bdb14-9d14-4c9d-d6b4-ac8039683e0f"
      },
      "execution_count": null,
      "outputs": [
        {
          "output_type": "stream",
          "name": "stdout",
          "text": [
            "(60000, 28, 28, 1)\n",
            "(60000, 784)\n"
          ]
        }
      ]
    },
    {
      "cell_type": "code",
      "source": [
        "#powyzsza zamiana wylacznie w celach powtorzenia\n",
        "train_X = train_X.reshape(-1 ,28, 28, 1)\n",
        "test_X = test_X.reshape(-1, 28, 28, 1)\n",
        "print(train_X.shape)"
      ],
      "metadata": {
        "id": "h48ziWJhcd1a",
        "colab": {
          "base_uri": "https://localhost:8080/"
        },
        "outputId": "de18633d-9a3b-42ea-a043-35ded185a4d9"
      },
      "execution_count": null,
      "outputs": [
        {
          "output_type": "stream",
          "name": "stdout",
          "text": [
            "(60000, 28, 28, 1)\n"
          ]
        }
      ]
    },
    {
      "cell_type": "code",
      "source": [
        "from sklearn.model_selection import train_test_split\n",
        "#test_size float(% testowych danych 0-1), int(dokladna liczba elementow testowych), NONE(deafult, 25% testowe, 75% treningowe)\n",
        "train_X, val_X, train_y, val_y = train_test_split(train_X, train_y, test_size = 0.1, random_state=2)\n",
        "print(\"train_X shape\",train_X.shape)\n",
        "print(\"val_X shape\",val_X.shape)\n",
        "print(\"train_y shape\",train_y.shape)\n",
        "print(\"val_y shape\",val_y.shape)"
      ],
      "metadata": {
        "colab": {
          "base_uri": "https://localhost:8080/"
        },
        "id": "ISSPV0PMcl8f",
        "outputId": "89ff97db-b63b-4372-de75-9199493509bf"
      },
      "execution_count": null,
      "outputs": [
        {
          "output_type": "stream",
          "name": "stdout",
          "text": [
            "train_X shape (54000, 28, 28, 1)\n",
            "val_X shape (6000, 28, 28, 1)\n",
            "train_y shape (54000, 10)\n",
            "val_y shape (6000, 10)\n"
          ]
        }
      ]
    },
    {
      "cell_type": "code",
      "source": [
        "model = Sequential()\n",
        "\n",
        "#1\n",
        "model.add(Conv2D(filters = 8, kernel_size = (3,3), padding = 'Same', activation ='relu', input_shape = (28,28,1)))\n",
        "model.add(MaxPool2D(pool_size=(2,2)))\n",
        "model.add(Dropout(0.25))\n",
        "\n",
        "#2\n",
        "model.add(Conv2D(filters = 16, kernel_size = (3,3), padding = 'Same', activation ='relu'))\n",
        "model.add(MaxPool2D(pool_size=(2,2), strides=(2,2)))\n",
        "model.add(Dropout(0.25))\n",
        "\n",
        "#3\n",
        "model.add(Flatten())\n",
        "model.add(Dense(512, activation = \"relu\"))\n",
        "model.add(Dropout(0.5))\n",
        "model.add(Dense(10, activation = \"softmax\"))\n",
        "\n",
        "model.compile(optimizer = 'adam', loss = \"categorical_crossentropy\", metrics=[\"accuracy\"])\n",
        "\n",
        "model.summary()"
      ],
      "metadata": {
        "colab": {
          "base_uri": "https://localhost:8080/"
        },
        "id": "th7XAk6jcw-9",
        "outputId": "743b6f5a-b21d-4c14-e868-4f67af1cb41a"
      },
      "execution_count": null,
      "outputs": [
        {
          "output_type": "stream",
          "name": "stdout",
          "text": [
            "Model: \"sequential\"\n",
            "_________________________________________________________________\n",
            " Layer (type)                Output Shape              Param #   \n",
            "=================================================================\n",
            " conv2d (Conv2D)             (None, 28, 28, 8)         80        \n",
            "                                                                 \n",
            " max_pooling2d (MaxPooling2D  (None, 14, 14, 8)        0         \n",
            " )                                                               \n",
            "                                                                 \n",
            " dropout (Dropout)           (None, 14, 14, 8)         0         \n",
            "                                                                 \n",
            " conv2d_1 (Conv2D)           (None, 14, 14, 16)        1168      \n",
            "                                                                 \n",
            " max_pooling2d_1 (MaxPooling  (None, 7, 7, 16)         0         \n",
            " 2D)                                                             \n",
            "                                                                 \n",
            " dropout_1 (Dropout)         (None, 7, 7, 16)          0         \n",
            "                                                                 \n",
            " flatten (Flatten)           (None, 784)               0         \n",
            "                                                                 \n",
            " dense (Dense)               (None, 512)               401920    \n",
            "                                                                 \n",
            " dropout_2 (Dropout)         (None, 512)               0         \n",
            "                                                                 \n",
            " dense_1 (Dense)             (None, 10)                5130      \n",
            "                                                                 \n",
            "=================================================================\n",
            "Total params: 408,298\n",
            "Trainable params: 408,298\n",
            "Non-trainable params: 0\n",
            "_________________________________________________________________\n"
          ]
        }
      ]
    },
    {
      "cell_type": "code",
      "source": [
        "#automatyczne zatrzymanie modelu po wykryciu przeuczenia (patience = 3 --> model wykryje przeuczenie ale puści jeszcze 3 razy uczenie się zanim zatrzyma proces)\n",
        "#restore_best_weights --> model po zatrzymaniu uczenia odtwarza najlesze parametry\n",
        "import tensorflow as tf\n",
        "callback = tf.keras.callbacks.EarlyStopping(\n",
        "    monitor =\"val_loss\",\n",
        "    min_delta = 0,\n",
        "    patience = 3,\n",
        "    verbose = 1,\n",
        "    mode = \"auto\",\n",
        "    baseline = None,\n",
        "    restore_best_weights = True,\n",
        ")\n",
        "\n",
        "batch_size = 512\n",
        "print(\"SS\")\n",
        "history = model.fit(\n",
        "    train_X,\n",
        "    train_y,\n",
        "    validation_data = (val_X,val_y),\n",
        "    batch_size = batch_size,\n",
        "    epochs = 7,\n",
        "    verbose = 1,\n",
        "    callbacks = [callback],\n",
        "    steps_per_epoch = train_X.shape[0] // batch_size # jeśli tego nie zdefiniujemy batch size zostanie wyliczony automatycznie, w naszym automatyczny batch size = 106   \n",
        ")"
      ],
      "metadata": {
        "colab": {
          "base_uri": "https://localhost:8080/"
        },
        "id": "revAjQJidDj_",
        "outputId": "2d362369-9417-470e-9e43-16345f46f175"
      },
      "execution_count": null,
      "outputs": [
        {
          "output_type": "stream",
          "name": "stdout",
          "text": [
            "SS\n",
            "Epoch 1/7\n",
            "105/105 [==============================] - 36s 329ms/step - loss: 0.7146 - accuracy: 0.7812 - val_loss: 0.2049 - val_accuracy: 0.9422\n",
            "Epoch 2/7\n",
            "105/105 [==============================] - 30s 289ms/step - loss: 0.2287 - accuracy: 0.9290 - val_loss: 0.1182 - val_accuracy: 0.9690\n",
            "Epoch 3/7\n",
            "105/105 [==============================] - 27s 258ms/step - loss: 0.1621 - accuracy: 0.9493 - val_loss: 0.0857 - val_accuracy: 0.9762\n",
            "Epoch 4/7\n",
            "105/105 [==============================] - 26s 248ms/step - loss: 0.1328 - accuracy: 0.9583 - val_loss: 0.0686 - val_accuracy: 0.9807\n",
            "Epoch 5/7\n",
            "105/105 [==============================] - 26s 251ms/step - loss: 0.1175 - accuracy: 0.9631 - val_loss: 0.0599 - val_accuracy: 0.9828\n",
            "Epoch 6/7\n",
            "105/105 [==============================] - 26s 246ms/step - loss: 0.1023 - accuracy: 0.9682 - val_loss: 0.0547 - val_accuracy: 0.9837\n",
            "Epoch 7/7\n",
            "105/105 [==============================] - 27s 259ms/step - loss: 0.0966 - accuracy: 0.9700 - val_loss: 0.0483 - val_accuracy: 0.9855\n"
          ]
        }
      ]
    },
    {
      "cell_type": "code",
      "source": [
        "#dzięki wykresowi, który monitoruje nasze val_loss możemy stwierdzić czy następuje overfit\n",
        "plt.plot(history.history['val_loss'], color='b', label=\"validation loss\")\n",
        "plt.title(\"val Loss\")\n",
        "plt.xlabel(\"Number of Epochs\")\n",
        "plt.ylabel(\"Loss\")\n",
        "plt.legend()\n",
        "plt.show()"
      ],
      "metadata": {
        "colab": {
          "base_uri": "https://localhost:8080/",
          "height": 295
        },
        "id": "TnhVLC5BeGXJ",
        "outputId": "9c255a6f-0815-4c1c-eb94-5c6b8d869dc8"
      },
      "execution_count": null,
      "outputs": [
        {
          "output_type": "display_data",
          "data": {
            "text/plain": [
              "<Figure size 432x288 with 1 Axes>"
            ],
            "image/png": "[encoded data removed]"
          },
          "metadata": {
            "needs_background": "light"
          }
        }
      ]
    },
    {
      "cell_type": "code",
      "source": [
        "#możecie sobie podejrzeć czy model zrobił dobrą predykcję\n",
        "from matplotlib import pyplot\n",
        "\n",
        "label_pred = model.predict(test_X)\n",
        "label_pred_classes = np.argmax(label_pred, axis=1)\n",
        "\n",
        "random_id_image = np.random.choice(len(test_X))\n",
        "image_sample = test_X[random_id_image]\n",
        "label_true = np.argmax(test_y, axis=1)\n",
        "label_sample_true = label_true[random_id_image]\n",
        "label_sample_pred_class = label_pred_classes[random_id_image]\n",
        "\n",
        "pyplot.title(\"Predicted: {}, True: {}\".format(label_sample_pred_class, label_sample_true), fontsize=16)\n",
        "pyplot.imshow(image_sample.reshape(28, 28), cmap='gray')"
      ],
      "metadata": {
        "colab": {
          "base_uri": "https://localhost:8080/",
          "height": 318
        },
        "id": "nYcJIXJmh8MJ",
        "outputId": "9321574b-2987-480a-ad40-982d7e8ec004"
      },
      "execution_count": null,
      "outputs": [
        {
          "output_type": "stream",
          "name": "stdout",
          "text": [
            "313/313 [==============================] - 4s 11ms/step\n"
          ]
        },
        {
          "output_type": "execute_result",
          "data": {
            "text/plain": [
              "<matplotlib.image.AxesImage at 0x7f6f218f0520>"
            ]
          },
          "metadata": {},
          "execution_count": 52
        },
        {
          "output_type": "display_data",
          "data": {
            "text/plain": [
              "<Figure size 432x288 with 1 Axes>"
            ],
            "image/png": "[encoded data removed]"
          },
          "metadata": {
            "needs_background": "light"
          }
        }
      ]
    },
    {
      "cell_type": "code",
      "source": [
        "#test dokladnosci\n",
        "test_loss, test_acc = model.evaluate(test_X, test_y)\n",
        "print(f\"test_loss: {test_loss}\", f\"test_acc: {test_acc}\")"
      ],
      "metadata": {
        "colab": {
          "base_uri": "https://localhost:8080/",
          "height": 200
        },
        "id": "Xw7RpdCdiyPy",
        "outputId": "20534e8b-df2c-4a3c-9ac9-35bc02a801ae"
      },
      "execution_count": null,
      "outputs": [
        {
          "output_type": "error",
          "ename": "NameError",
          "evalue": "ignored",
          "traceback": [
            "\u001b[0;31m---------------------------------------------------------------------------\u001b[0m",
            "\u001b[0;31mNameError\u001b[0m                                 Traceback (most recent call last)",
            "\u001b[0;32m<ipython-input-1-cd690cbb3d4a>\u001b[0m in \u001b[0;36m<module>\u001b[0;34m\u001b[0m\n\u001b[1;32m      1\u001b[0m \u001b[0;31m#test dokladnosci\u001b[0m\u001b[0;34m\u001b[0m\u001b[0;34m\u001b[0m\u001b[0m\n\u001b[0;32m----> 2\u001b[0;31m \u001b[0mtest_loss\u001b[0m\u001b[0;34m,\u001b[0m \u001b[0mtest_acc\u001b[0m \u001b[0;34m=\u001b[0m \u001b[0mmodel\u001b[0m\u001b[0;34m.\u001b[0m\u001b[0mevaluate\u001b[0m\u001b[0;34m(\u001b[0m\u001b[0mtest_X\u001b[0m\u001b[0;34m,\u001b[0m \u001b[0mtest_y\u001b[0m\u001b[0;34m)\u001b[0m\u001b[0;34m\u001b[0m\u001b[0;34m\u001b[0m\u001b[0m\n\u001b[0m\u001b[1;32m      3\u001b[0m \u001b[0mprint\u001b[0m\u001b[0;34m(\u001b[0m\u001b[0;34mf\"test_loss: {test_loss}\"\u001b[0m\u001b[0;34m,\u001b[0m \u001b[0;34mf\"test_acc: {test_acc}\"\u001b[0m\u001b[0;34m)\u001b[0m\u001b[0;34m\u001b[0m\u001b[0;34m\u001b[0m\u001b[0m\n",
            "\u001b[0;31mNameError\u001b[0m: name 'model' is not defined"
          ]
        }
      ]
    }
  ]
}